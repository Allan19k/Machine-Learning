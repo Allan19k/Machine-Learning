{
  "nbformat": 4,
  "nbformat_minor": 0,
  "metadata": {
    "colab": {
      "provenance": [],
      "authorship_tag": "ABX9TyMHeHE5tJduuUW2G9/bCZ8l",
      "include_colab_link": true
    },
    "kernelspec": {
      "name": "python3",
      "display_name": "Python 3"
    },
    "language_info": {
      "name": "python"
    }
  },
  "cells": [
    {
      "cell_type": "markdown",
      "metadata": {
        "id": "view-in-github",
        "colab_type": "text"
      },
      "source": [
        "<a href=\"https://colab.research.google.com/github/Allan19k/Machine-Learning/blob/main/Examen_1parcial.ipynb\" target=\"_parent\"><img src=\"https://colab.research.google.com/assets/colab-badge.svg\" alt=\"Open In Colab\"/></a>"
      ]
    },
    {
      "cell_type": "code",
      "execution_count": 1,
      "metadata": {
        "id": "lwBh_7BKqytq"
      },
      "outputs": [],
      "source": [
        "# importar el dataset\n",
        "from sklearn.datasets import load_breast_cancer\n",
        "breast_cancer = load_breast_cancer()\n"
      ]
    },
    {
      "cell_type": "code",
      "source": [
        "# prompt: divideme este dataset en 80 para entrenamiento y 20 para test\n",
        "\n",
        "from sklearn.model_selection import train_test_split\n",
        "\n",
        "# Dividir los datos en conjuntos de entrenamiento y prueba\n",
        "X_train, X_test, y_train, y_test = train_test_split(\n",
        "    breast_cancer.data, breast_cancer.target, test_size=0.2, random_state=0)\n",
        "print(f\"Tamaño del conjunto de entrenamiento: {len(X_train)}\")\n",
        "print(f\"Tamaño del conjunto de prueba: {len(X_test)}\")\n"
      ],
      "metadata": {
        "colab": {
          "base_uri": "https://localhost:8080/"
        },
        "id": "2xAh4y3RHr-x",
        "outputId": "fcef531e-a3b8-41af-9a6d-37f26836b66a"
      },
      "execution_count": 4,
      "outputs": [
        {
          "output_type": "stream",
          "name": "stdout",
          "text": [
            "Tamaño del conjunto de entrenamiento: 455\n",
            "Tamaño del conjunto de prueba: 114\n"
          ]
        }
      ]
    },
    {
      "cell_type": "code",
      "source": [
        "# prompt: aplicale transformacion Principal Component Analysis (pca) a esta base de datos reduciendole la dimensionalidad a 5 features\n",
        "\n",
        "from sklearn.decomposition import PCA\n",
        "\n",
        "# Crear un objeto PCA con 5 componentes principales\n",
        "pca = PCA(n_components=5)\n",
        "\n",
        "# Ajustar el modelo PCA a los datos de entrenamiento\n",
        "pca.fit(X_train)\n",
        "\n",
        "# Transformar los datos de entrenamiento y prueba utilizando el modelo PCA ajustado\n",
        "X_train_pca = pca.transform(X_train)\n",
        "X_test_pca = pca.transform(X_test)\n",
        "\n",
        "# Imprimir la forma de los datos transformados\n",
        "print(f\"Forma de los datos de entrenamiento después de PCA: {X_train_pca.shape}\")\n",
        "print(f\"Forma de los datos de prueba después de PCA: {X_test_pca.shape}\")\n"
      ],
      "metadata": {
        "colab": {
          "base_uri": "https://localhost:8080/"
        },
        "id": "InB5wyUfIPl7",
        "outputId": "bb67e24a-09af-4b54-a8ec-228b4778e66e"
      },
      "execution_count": 5,
      "outputs": [
        {
          "output_type": "stream",
          "name": "stdout",
          "text": [
            "Forma de los datos de entrenamiento después de PCA: (455, 5)\n",
            "Forma de los datos de prueba después de PCA: (114, 5)\n"
          ]
        }
      ]
    },
    {
      "cell_type": "code",
      "source": [
        "# prompt: haz un preprocesamiento de los datos de tal manera que una vez transformados tengan media = 0 y desviación estándar = 1\n",
        "\n",
        "from sklearn.preprocessing import StandardScaler\n",
        "\n",
        "# Crear un objeto StandardScaler\n",
        "scaler = StandardScaler()\n",
        "\n",
        "# Ajustar el scaler a los datos de entrenamiento y transformar los datos\n",
        "X_train_scaled = scaler.fit_transform(X_train_pca)\n",
        "\n",
        "# Transformar los datos de prueba utilizando el scaler ajustado a los datos de entrenamiento\n",
        "X_test_scaled = scaler.transform(X_test_pca)\n",
        "\n",
        "# Verificar la media y desviación estándar de los datos transformados\n",
        "print(f\"Media de los datos de entrenamiento escalados: {X_train_scaled.mean(axis=0)}\")\n",
        "print(f\"Desviación estándar de los datos de entrenamiento escalados: {X_train_scaled.std(axis=0)}\")\n",
        "print(f\"Media de los datos de prueba escalados: {X_test_scaled.mean(axis=0)}\")\n",
        "print(f\"Desviación estándar de los datos de prueba escalados: {X_test_scaled.std(axis=0)}\")\n"
      ],
      "metadata": {
        "colab": {
          "base_uri": "https://localhost:8080/"
        },
        "id": "9cEVrUgiMMk0",
        "outputId": "c34e4cf9-e7af-4194-820c-b9ed4405288b"
      },
      "execution_count": 6,
      "outputs": [
        {
          "output_type": "stream",
          "name": "stdout",
          "text": [
            "Media de los datos de entrenamiento escalados: [-5.61211639e-17  2.40954997e-18  4.08708476e-17 -1.46403036e-18\n",
            " -1.31762733e-17]\n",
            "Desviación estándar de los datos de entrenamiento escalados: [1. 1. 1. 1. 1.]\n",
            "Media de los datos de prueba escalados: [ 0.00036079  0.0700682  -0.00326851  0.2236837   0.0093833 ]\n",
            "Desviación estándar de los datos de prueba escalados: [0.8645783  0.84844227 0.70650087 1.19311973 1.06573935]\n"
          ]
        }
      ]
    },
    {
      "cell_type": "code",
      "source": [
        "# prompt: aplicale a esta base datos Random Search con CV=3 e identifica la  mejor arquitectura de red neuronal en donde se evalúen 4\n",
        "# diferentes parámetros del modelo con 3 posibles valores considerando siempre que la Multilayer perceptron es de 3 capas.\n",
        "\n",
        "import numpy as np\n",
        "from sklearn.model_selection import RandomizedSearchCV, cross_val_score\n",
        "from sklearn.neural_network import MLPClassifier\n",
        "\n",
        "# Define the parameter grid for the random search\n",
        "param_dist = {\n",
        "    'hidden_layer_sizes': [(50, 50, 50), (100, 100, 100), (50, 100, 50)],\n",
        "    'activation': ['relu', 'tanh', 'logistic'],\n",
        "    'solver': ['adam', 'sgd', 'lbfgs'],\n",
        "    'alpha': [0.0001, 0.001, 0.01]\n",
        "}\n",
        "\n",
        "# Create a Multilayer Perceptron classifier\n",
        "mlp = MLPClassifier(max_iter=1000) # Increased max_iter for better convergence\n",
        "\n",
        "# Create a RandomizedSearchCV object with 3-fold cross-validation\n",
        "random_search = RandomizedSearchCV(mlp, param_distributions=param_dist, n_iter=10, cv=3, n_jobs=-1, random_state=0)\n",
        "\n",
        "# Perform the random search on the training data\n",
        "random_search.fit(X_train_scaled, y_train)\n",
        "\n",
        "# Print the best hyperparameters and the corresponding score\n",
        "print(\"Best hyperparameters:\", random_search.best_params_)\n",
        "print(\"Best score:\", random_search.best_score_)\n",
        "\n",
        "# Evaluate the best model on the test set\n",
        "best_mlp = random_search.best_estimator_\n",
        "test_score = best_mlp.score(X_test_scaled, y_test)\n",
        "print(\"Test set score:\", test_score)\n",
        "\n",
        "\n",
        "#Example of how to access the results of cross-validation\n",
        "cv_results = random_search.cv_results_\n",
        "for mean_score, params in zip(cv_results[\"mean_test_score\"], cv_results[\"params\"]):\n",
        "    print(f\"Mean test score: {mean_score:.3f}, Parameters: {params}\")\n"
      ],
      "metadata": {
        "colab": {
          "base_uri": "https://localhost:8080/"
        },
        "id": "sV6y7cYeOcJu",
        "outputId": "2894b5df-fd8d-45eb-842c-5539b27ffaaf"
      },
      "execution_count": 7,
      "outputs": [
        {
          "output_type": "stream",
          "name": "stdout",
          "text": [
            "Best hyperparameters: {'solver': 'sgd', 'hidden_layer_sizes': (100, 100, 100), 'alpha': 0.001, 'activation': 'relu'}\n",
            "Best score: 0.9648541884512606\n",
            "Test set score: 0.9385964912280702\n",
            "Mean test score: 0.963, Parameters: {'solver': 'sgd', 'hidden_layer_sizes': (100, 100, 100), 'alpha': 0.01, 'activation': 'relu'}\n",
            "Mean test score: 0.956, Parameters: {'solver': 'adam', 'hidden_layer_sizes': (50, 50, 50), 'alpha': 0.0001, 'activation': 'tanh'}\n",
            "Mean test score: 0.637, Parameters: {'solver': 'sgd', 'hidden_layer_sizes': (50, 100, 50), 'alpha': 0.0001, 'activation': 'logistic'}\n",
            "Mean test score: 0.965, Parameters: {'solver': 'sgd', 'hidden_layer_sizes': (100, 100, 100), 'alpha': 0.001, 'activation': 'relu'}\n",
            "Mean test score: 0.947, Parameters: {'solver': 'lbfgs', 'hidden_layer_sizes': (50, 100, 50), 'alpha': 0.001, 'activation': 'logistic'}\n",
            "Mean test score: 0.934, Parameters: {'solver': 'lbfgs', 'hidden_layer_sizes': (50, 50, 50), 'alpha': 0.01, 'activation': 'logistic'}\n",
            "Mean test score: 0.949, Parameters: {'solver': 'adam', 'hidden_layer_sizes': (100, 100, 100), 'alpha': 0.0001, 'activation': 'tanh'}\n",
            "Mean test score: 0.637, Parameters: {'solver': 'sgd', 'hidden_layer_sizes': (50, 50, 50), 'alpha': 0.0001, 'activation': 'logistic'}\n",
            "Mean test score: 0.947, Parameters: {'solver': 'lbfgs', 'hidden_layer_sizes': (50, 100, 50), 'alpha': 0.01, 'activation': 'tanh'}\n",
            "Mean test score: 0.954, Parameters: {'solver': 'lbfgs', 'hidden_layer_sizes': (50, 100, 50), 'alpha': 0.01, 'activation': 'relu'}\n"
          ]
        }
      ]
    },
    {
      "cell_type": "code",
      "source": [
        "# prompt: usando los datos de test imprime los resultados obtenidos en Precision, Recall y F-measure de la mejor arquitectura de RNA, además despliega la matrizde confusión\n",
        "\n",
        "from sklearn.metrics import classification_report, confusion_matrix\n",
        "import seaborn as sns\n",
        "import matplotlib.pyplot as plt\n",
        "\n",
        "# Predict the labels for the test set using the best model\n",
        "y_pred = best_mlp.predict(X_test_scaled)\n",
        "\n",
        "# Print the classification report\n",
        "print(classification_report(y_test, y_pred))\n",
        "\n",
        "# Compute and plot the confusion matrix\n",
        "cm = confusion_matrix(y_test, y_pred)\n",
        "plt.figure(figsize=(8, 6))\n",
        "sns.heatmap(cm, annot=True, fmt=\"d\", cmap=\"Blues\",\n",
        "            xticklabels=breast_cancer.target_names,\n",
        "            yticklabels=breast_cancer.target_names)\n",
        "plt.xlabel(\"Predicted\")\n",
        "plt.ylabel(\"True\")\n",
        "plt.title(\"Confusion Matrix\")\n",
        "plt.show()\n"
      ],
      "metadata": {
        "colab": {
          "base_uri": "https://localhost:8080/",
          "height": 725
        },
        "id": "eTT2-j5NQu-E",
        "outputId": "6e2a4adc-faba-4d6b-fcea-4e0553f6c2a0"
      },
      "execution_count": 8,
      "outputs": [
        {
          "output_type": "stream",
          "name": "stdout",
          "text": [
            "              precision    recall  f1-score   support\n",
            "\n",
            "           0       0.90      0.96      0.93        47\n",
            "           1       0.97      0.93      0.95        67\n",
            "\n",
            "    accuracy                           0.94       114\n",
            "   macro avg       0.93      0.94      0.94       114\n",
            "weighted avg       0.94      0.94      0.94       114\n",
            "\n"
          ]
        },
        {
          "output_type": "display_data",
          "data": {
            "text/plain": [
              "<Figure size 800x600 with 2 Axes>"
            ],
            "image/png": "[encoded data removed]"
          },
          "metadata": {}
        }
      ]
    },
    {
      "cell_type": "markdown",
      "source": [
        "El ejercicio demuestra que la combinación de PCA para la reducción de dimensionalidad, el preprocesamiento mediante estandarización, y la optimización de la arquitectura del MLP a través de Random Search, resulta en un modelo de red neuronal que ofrece un desempeño robusto y consistente. La metodología aplicada es adecuada para problemas de clasificación en conjuntos de datos biomédicos, como el de cáncer de mama, y puede ser replicada en otros escenarios donde se requiera manejar alta dimensionalidad y optimizar el rendimiento del modelo mediante la selección cuidadosa de hiperparámetros.\n",
        "\n",
        "En resumen esto fue lo que se realizo en este ejericicio\n",
        "\n",
        "*   Reducción de Dimensionalidad Efectiva: La aplicación de PCA permitió reducir el conjunto de datos original a 5 componentes principales, lo que sugiere que estos nuevos features capturan la mayor parte de la varianza y la información relevante. Esto facilita el proceso de entrenamiento del modelo sin perder demasiada capacidad predictiva.\n",
        "*   Preprocesamiento Adecuado: El uso de StandardScaler sobre los datos transformados con PCA garantizó que las características estén en una escala comparable (media 0 y desviación estándar 1 en el conjunto de entrenamiento). Aunque el conjunto de prueba no se transformó a media 0 y desviación 1 (ya que se aplicaron los parámetros del entrenamiento), este comportamiento es normal y esperado, asegurando consistencia en la transformación.\n",
        "*   Optimización de la Arquitectura del MLP:\n",
        "La estrategia de Random Search con validación cruzada (CV=3) permitió explorar un espacio de hiperparámetros (hidden_layer_sizes, activation, solver y alpha) de forma eficiente. La búsqueda identificó una arquitectura óptima que logró un buen desempeño en el conjunto de entrenamiento, lo que se reflejó en un elevado score durante la validación.\n",
        "*   Resultados del Modelo:\n",
        "El modelo final alcanzó una accuracy del 94% en el conjunto de prueba. El classification report mostró:\n",
        "\n",
        "\n",
        "    Para la clase 0: precisión del 90%, recall del 96% y f1-score del 93%.\n",
        "    Para la clase 1: precisión del 97%, recall del 93% y f1-score del 95%.\n",
        "    Estos resultados indican que el modelo es robusto y capaz de clasificar correctamente la mayoría de las instancias, manteniendo un buen equilibrio entre precisión y recall para ambas clases.\n",
        "\n",
        "\n",
        "*   Matriz de Confusión:\n",
        "La visualización de la matriz de confusión respalda la alta efectividad del modelo, evidenciando que los errores de clasificación son mínimos y que la mayoría de las predicciones se asignaron correctamente a sus clases correspondientes."
      ],
      "metadata": {
        "id": "lZQSdHrWRUr5"
      }
    }
  ]
}