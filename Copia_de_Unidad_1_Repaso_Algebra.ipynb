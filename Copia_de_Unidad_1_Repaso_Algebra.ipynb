{
  "nbformat": 4,
  "nbformat_minor": 0,
  "metadata": {
    "colab": {
      "provenance": [],
      "include_colab_link": true
    },
    "kernelspec": {
      "name": "python3",
      "display_name": "Python 3"
    },
    "language_info": {
      "name": "python"
    }
  },
  "cells": [
    {
      "cell_type": "markdown",
      "metadata": {
        "id": "view-in-github",
        "colab_type": "text"
      },
      "source": [
        "<a href=\"https://colab.research.google.com/github/Allan19k/Machine-Learning/blob/main/Copia_de_Unidad_1_Repaso_Algebra.ipynb\" target=\"_parent\"><img src=\"https://colab.research.google.com/assets/colab-badge.svg\" alt=\"Open In Colab\"/></a>"
      ]
    },
    {
      "cell_type": "markdown",
      "source": [
        "# **Título: Álgebra Lineal en Python: Vectores, Matrices y Arreglos**\n",
        "**1. Introducción**\n",
        "\n",
        "**Objetivo**: Breve explicación de la importancia de los vectores y matrices en Machine Learning. Introducción a la librería NumPy para manipulación de matrices y arreglos."
      ],
      "metadata": {
        "id": "-HjPS9NP2ER6"
      }
    },
    {
      "cell_type": "code",
      "execution_count": 2,
      "metadata": {
        "id": "ekEegfMf11DO"
      },
      "outputs": [],
      "source": [
        "import numpy as np"
      ]
    },
    {
      "cell_type": "markdown",
      "source": [
        "---\n",
        "**2. Creación de Vectores y Matrices**\n",
        "\n",
        "Creación de vectores y matrices usando np.array()"
      ],
      "metadata": {
        "id": "Fi2ccbsI2M5p"
      }
    },
    {
      "cell_type": "code",
      "source": [
        "# Crear un vector y una matriz\n",
        "v = np.array([1, 2, 4])\n",
        "A = np.array([[1, 2], [3, 4]])\n",
        "print(\"Vector v:\")\n",
        "print(v)\n",
        "\n",
        "print(\"\\nMatriz A:\")\n",
        "print(A)\n"
      ],
      "metadata": {
        "id": "JjHNzQfg2SXH",
        "colab": {
          "base_uri": "https://localhost:8080/"
        },
        "outputId": "73f39a9b-660b-44d6-82ea-a84415c5ca37"
      },
      "execution_count": 7,
      "outputs": [
        {
          "output_type": "stream",
          "name": "stdout",
          "text": [
            "Vector v:\n",
            "[1 2 4]\n",
            "\n",
            "Matriz A:\n",
            "[[1 2]\n",
            " [3 4]]\n"
          ]
        }
      ]
    },
    {
      "cell_type": "markdown",
      "source": [
        "---\n",
        "**3. Operaciones Básicas con Matrices**\n",
        "\n",
        "Suma, resta, multiplicación y división de matrices.\n",
        "Multiplicación escalar.\n",
        "    \n",
        "**Operador** @  Multiplicación de matrices (Producto matricial)\n",
        "\n",
        "Realiza la multiplicación de matrices convencional de álgebra lineal.\n",
        "Sigue la regla de multiplicación de matrices: la cantidad de columnas de la primera matriz debe ser igual a la cantidad de filas de la segunda.\n",
        "Es equivalente a la función **np.dot() o np.matmul()**\n",
        "\n"
      ],
      "metadata": {
        "id": "zIxHLgmB2Xgc"
      }
    },
    {
      "cell_type": "markdown",
      "source": [
        "$$\n",
        "\\begin{bmatrix}\n",
        "1 & 2 \\\\\n",
        "3 & 4\n",
        "\\end{bmatrix}\n",
        "\\cdot\n",
        "\\begin{bmatrix}\n",
        "5 & 6 \\\\\n",
        "7 & 8\n",
        "\\end{bmatrix}\n",
        "=\n",
        "\\begin{bmatrix}\n",
        "(1\\cdot5 + 2\\cdot7) & (1\\cdot6 + 2\\cdot8) \\\\\n",
        "(3\\cdot5 + 4\\cdot7) & (3\\cdot6 + 4\\cdot8)\n",
        "\\end{bmatrix}\n",
        "=\n",
        "\\begin{bmatrix}\n",
        "19 & 22 \\\\\n",
        "43 & 50\n",
        "\\end{bmatrix}\n",
        "$$\n"
      ],
      "metadata": {
        "id": "JWbB6c3ajcfR"
      }
    },
    {
      "cell_type": "markdown",
      "source": [
        "   **Operador** *: Multiplicación elemento a elemento (Producto Hadamard)\n",
        "\n",
        "  Realiza una multiplicación punto a punto de los elementos correspondientes de ambas matrices.\n",
        "  Las matrices deben tener las mismas dimensiones para realizar la operación.\n",
        "  Es equivalente a la función **np.multiply()**"
      ],
      "metadata": {
        "id": "dpiMDI7keJ1t"
      }
    },
    {
      "cell_type": "markdown",
      "source": [
        "$$\n",
        "\\begin{bmatrix}\n",
        "1 & 2 \\\\\n",
        "3 & 4\n",
        "\\end{bmatrix}\n",
        "\\circ\n",
        "\\begin{bmatrix}\n",
        "5 & 6 \\\\\n",
        "7 & 8\n",
        "\\end{bmatrix}\n",
        "=\n",
        "\\begin{bmatrix}\n",
        "1 \\cdot 5 & 2 \\cdot 6 \\\\\n",
        "3 \\cdot 7 & 4 \\cdot 8\n",
        "\\end{bmatrix}\n",
        "=\n",
        "\\begin{bmatrix}\n",
        "5 & 12 \\\\\n",
        "21 & 32\n",
        "\\end{bmatrix}\n",
        "$$"
      ],
      "metadata": {
        "id": "0QZfdjJ3c-cP"
      }
    },
    {
      "cell_type": "code",
      "source": [
        "B = np.array([[5, 6], [7, 8]])\n",
        "C = A + B  # Suma\n",
        "D = A @ B  # Multiplicación de matrices\n",
        "E = A * 2  # Multiplicación escalar\n",
        "\n",
        "# Impresión con etiquetas\n",
        "print(\"Matriz A:\")\n",
        "print(A)\n",
        "\n",
        "print(\"\\nMatriz B:\")\n",
        "print(B)\n",
        "\n",
        "print(\"\\nSuma de matrices (A + B):\")\n",
        "print(C)\n",
        "\n",
        "print(\"\\nMultiplicación de matrices (A @ B):\")\n",
        "print(D)\n",
        "\n",
        "print(\"\\nMultiplicación escalar de A por 2 (A * 2):\")\n",
        "print(E)\n"
      ],
      "metadata": {
        "id": "DrxlXahk2YKB",
        "colab": {
          "base_uri": "https://localhost:8080/"
        },
        "outputId": "dfe327bd-8589-4e0d-a225-1915eb250012"
      },
      "execution_count": 8,
      "outputs": [
        {
          "output_type": "stream",
          "name": "stdout",
          "text": [
            "Matriz A:\n",
            "[[1 2]\n",
            " [3 4]]\n",
            "\n",
            "Matriz B:\n",
            "[[5 6]\n",
            " [7 8]]\n",
            "\n",
            "Suma de matrices (A + B):\n",
            "[[ 6  8]\n",
            " [10 12]]\n",
            "\n",
            "Multiplicación de matrices (A @ B):\n",
            "[[19 22]\n",
            " [43 50]]\n",
            "\n",
            "Multiplicación escalar de A por 2 (A * 2):\n",
            "[[2 4]\n",
            " [6 8]]\n"
          ]
        }
      ]
    },
    {
      "cell_type": "markdown",
      "source": [
        "🟡 Ejercicio:\n",
        "Implementa la suma y resta de matrices de dimensiones 2x2 generadas aleatoriamente.\n",
        "\n"
      ],
      "metadata": {
        "id": "uENf6SNc2h-3"
      }
    },
    {
      "cell_type": "code",
      "source": [
        "# crear matriz\n",
        "arr1= np.random.randint(0,100,size=(2,2))\n",
        "print(\"\\nMatriz 1\")\n",
        "print(arr1)\n",
        "\n",
        "arr2= np.random.randint(0,100,size=(2,2))\n",
        "print(\"\\nMatriz 2\")\n",
        "print(arr2)\n",
        "\n",
        "# Implementaciones\n",
        "Suma = arr1+ arr2\n",
        "Resta = arr1 - arr2\n",
        "\n",
        "# Imprimir matrices\n",
        "\n",
        "print(\"\\nSuma de matrices:\")\n",
        "print(Suma)\n",
        "print(\"\\nResta de matrices:\")\n",
        "print(Resta)\n"
      ],
      "metadata": {
        "id": "n8mTuxqZ2gSC",
        "colab": {
          "base_uri": "https://localhost:8080/"
        },
        "outputId": "c1067f61-20a3-47ea-df5e-70ae7a40892c"
      },
      "execution_count": 5,
      "outputs": [
        {
          "output_type": "stream",
          "name": "stdout",
          "text": [
            "\n",
            "Matriz 1\n",
            "[[47 49]\n",
            " [97 37]]\n",
            "\n",
            "Matriz 2\n",
            "[[99 38]\n",
            " [46 14]]\n",
            "\n",
            "Suma de matrices:\n",
            "[[146  87]\n",
            " [143  51]]\n",
            "\n",
            "Resta de matrices:\n",
            "[[-52  11]\n",
            " [ 51  23]]\n"
          ]
        }
      ]
    },
    {
      "cell_type": "markdown",
      "source": [
        "---\n",
        "**4. Transpuesta, Determinante y Traza**\n",
        "\n",
        "\n",
        "**a. Transpuesta de una matriz**\n",
        "La **transpuesta** de una matriz \\( A \\) es una nueva matriz, denotada como  $$A^T$$ obtenida intercambiando las filas por columnas.\n",
        "\n",
        " **Definición:**\n",
        "Si \\( A \\) es una matriz de tamaño \\( m x n \\):\n",
        "\n",
        "$$\n",
        "A =\n",
        "\\begin{bmatrix}\n",
        "a_{11} & a_{12} & \\cdots & a_{1n} \\\\\n",
        "a_{21} & a_{22} & \\cdots & a_{2n} \\\\\n",
        "\\vdots & \\vdots & \\ddots & \\vdots \\\\\n",
        "a_{m1} & a_{m2} & \\cdots & a_{mn}\n",
        "\\end{bmatrix}\n",
        "$$\n",
        "\n",
        "La transpuesta \\( A^T \\) se define como:\n",
        "\n",
        "$$\n",
        "A^T =\n",
        "\\begin{bmatrix}\n",
        "a_{11} & a_{21} & \\cdots & a_{m1} \\\\\n",
        "a_{12} & a_{22} & \\cdots & a_{m2} \\\\\n",
        "\\vdots & \\vdots & \\ddots & \\vdots \\\\\n",
        "a_{1n} & a_{2n} & \\cdots & a_{mn}\n",
        "\\end{bmatrix}\n",
        "$$\n",
        "\n",
        " **Propiedades:**\n",
        "- la transpuesta de la transpuesta es la matriz original $$(A^T)^T = A $$\n",
        "- $$ (A + B)^T = A^T + B^T \\$$\n",
        "\n",
        "- $$ (AB)^T = B^T A^T $$\n",
        "\n",
        "\n",
        "**b. Determinante de una matriz**\n",
        "El **determinante** de una matriz cuadrada \\( A \\) (denotado como \\( det(A) \\) o \\( |A| \\)) es un valor escalar que proporciona información sobre la invertibilidad de la matriz y el cambio de escala en las transformaciones lineales.\n",
        "\n",
        "### **Definición:**\n",
        "Para una matriz \\( 2 x 2 \\):\n",
        "\n",
        "\n",
        "A =\n",
        "\\begin{bmatrix}\n",
        "a & b \\\\\n",
        "c & d\n",
        "\\end{bmatrix}\n",
        "\n",
        "El determinante se calcula como:\n",
        "\n",
        "\n",
        "det(A) = ad - bc\n",
        "\n",
        "\n",
        "Para matrices de mayor dimensión, se calcula mediante **expansión por cofactores** o métodos numéricos.\n",
        "\n",
        "### **Propiedades:**\n",
        "- $$ det(A^T) = det(A) $$\n",
        "- La matriz no es invertible si $$ det(A) = 0 $$\n",
        "- $$ det(AB) = det(A) det(B) $$.\n",
        "\n",
        "\n",
        "\n",
        "**c. Traza de una matriz**\n",
        "La **traza** de una matriz cuadrada \\( A \\), denotada como $$ \\text{tr}(A) $$ es la suma de los elementos de su diagonal principal.\n",
        "\n",
        "### **Definición:**\n",
        "Si \\( A \\) es una matriz \\( n x n \\):\n",
        "\n",
        "$$\n",
        "A =\n",
        "\\begin{bmatrix}\n",
        "a_{11} & a_{12} & \\cdots & a_{1n} \\\\\n",
        "a_{21} & a_{22} & \\cdots & a_{2n} \\\\\n",
        "\\vdots & \\vdots & \\ddots & \\vdots \\\\\n",
        "a_{n1} & a_{n2} & \\cdots & a_{nn}\n",
        "\\end{bmatrix}\n",
        "$$\n",
        "\n",
        "La traza se define como:\n",
        "$$\n",
        "\\\n",
        "\\text{tr}(A) = a_{11} + a_{22} + \\cdots + a_{nn}\n",
        "\\\n",
        "$$\n",
        " **Propiedades:**\n",
        "- $$ \\text{tr}(A + B) = \\text{tr}(A) + \\text{tr}(B) $$\n",
        "- $$ \\text{tr}(cA) = c \\, \\text{tr}(A) $$ donde  *c* es un escalar.\n",
        "- $$ \\text{tr}(AB) = \\text{tr}(BA) $$\n",
        "\n",
        "---\n"
      ],
      "metadata": {
        "id": "b4YluNfi2lef"
      }
    },
    {
      "cell_type": "code",
      "source": [
        "A_T = np.transpose(A)  # Transpuesta\n",
        "det_A = np.linalg.det(A)  # Determinante\n",
        "trace_A = np.trace(A)  # Traza\n",
        "print(\"Matriz A\")\n",
        "print(A)\n",
        "print(\"\\nMatriz Transpuesta de A\")\n",
        "print(A_T)\n",
        "print(\"\\nDeterminante de A\")\n",
        "print(det_A)\n",
        "print(\"\\nTraza de A\")\n",
        "print(trace_A)\n",
        "\n",
        "\n"
      ],
      "metadata": {
        "id": "BqKbbdC82qfO",
        "colab": {
          "base_uri": "https://localhost:8080/"
        },
        "outputId": "1ddbafab-3469-4e36-b05c-abd779e455ba"
      },
      "execution_count": null,
      "outputs": [
        {
          "output_type": "stream",
          "name": "stdout",
          "text": [
            "Matriz A\n",
            "[[1 2]\n",
            " [3 4]]\n",
            "\n",
            "Matriz Transpuesta de A\n",
            "[[1 3]\n",
            " [2 4]]\n",
            "\n",
            "Determinante de A\n",
            "-2.0000000000000004\n",
            "\n",
            "Traza de A\n",
            "5\n"
          ]
        }
      ]
    },
    {
      "cell_type": "markdown",
      "source": [
        "🟡 Ejercicio:\n",
        "Calcula la transpuesta, determinante y traza de una matriz 3x3 de tu elección."
      ],
      "metadata": {
        "id": "GbFA8GYc2sFk"
      }
    },
    {
      "cell_type": "code",
      "source": [
        "# crear matriz\n",
        "arr3= np.random.randint(0,100,size=(3,3))\n",
        "print(\"\\nMatriz 3x3\")\n",
        "print(arr3)\n",
        "\n",
        "#calcular Transpuesta\n",
        "arr3_T = np.transpose(arr3)\n",
        "\n",
        "#calcular determinante\n",
        "det_arr3 = np.linalg.det(arr3)\n",
        "\n",
        "#calcular traza\n",
        "trace_arr3 = np.trace(arr3)\n",
        "\n",
        "#imprimirlas\n",
        "print(\"\\nTranspuesta de la matriz 3x3\")\n",
        "print(arr3_T)\n",
        "print(\"\\nDeterminante de la matriz 3x3\")\n",
        "print(det_arr3)\n",
        "print(\"\\nTraza de la matriz 3x3\")\n",
        "print(trace_arr3)"
      ],
      "metadata": {
        "colab": {
          "base_uri": "https://localhost:8080/"
        },
        "id": "DAxHtuBpXkCT",
        "outputId": "104dfc71-3ad3-4640-df74-348d2c04ae1b"
      },
      "execution_count": 3,
      "outputs": [
        {
          "output_type": "stream",
          "name": "stdout",
          "text": [
            "\n",
            "Matriz 3x3\n",
            "[[60  7 90]\n",
            " [86 90 41]\n",
            " [75 81 71]]\n",
            "\n",
            "Transpuesta de la matriz 3x3\n",
            "[[60 86 75]\n",
            " [ 7 90 81]\n",
            " [90 41 71]]\n",
            "\n",
            "Determinante de la matriz 3x3\n",
            "182362.99999999994\n",
            "\n",
            "Traza de la matriz 3x3\n",
            "221\n"
          ]
        }
      ]
    },
    {
      "cell_type": "markdown",
      "source": [
        "5. Valores y Vectores Característicos (Eigenvalues y Eigenvectors)\n",
        "\n",
        "    Introducción a la descomposición de matrices.\n",
        "    Cálculo con np.linalg.eig."
      ],
      "metadata": {
        "id": "_bN4Punw2uhq"
      }
    },
    {
      "cell_type": "code",
      "source": [
        "eigenvalues, eigenvectors = np.linalg.eig(A)\n",
        "print(\"Valores propios de A:\")\n",
        "print(eigenvalues)\n",
        "\n",
        "print(\"\\nVectores propios de A:\")\n",
        "print(eigenvectors)\n",
        "\n"
      ],
      "metadata": {
        "id": "JAcZbmVa27M4",
        "colab": {
          "base_uri": "https://localhost:8080/"
        },
        "outputId": "a8c22076-1f8e-490b-da5e-6b832154dde3"
      },
      "execution_count": 9,
      "outputs": [
        {
          "output_type": "stream",
          "name": "stdout",
          "text": [
            "Valores propios de A:\n",
            "[-0.37228132  5.37228132]\n",
            "\n",
            "Vectores propios de A:\n",
            "[[-0.82456484 -0.41597356]\n",
            " [ 0.56576746 -0.90937671]]\n"
          ]
        }
      ]
    },
    {
      "cell_type": "markdown",
      "source": [
        "🟡 Ejercicio:\n",
        "Determina los valores y vectores característicos de una matriz cuadrada 3x3."
      ],
      "metadata": {
        "id": "1-g6EyiZ29SZ"
      }
    },
    {
      "cell_type": "code",
      "source": [
        "arr3_eigenvalues, arr3_eigenvectors = np.linalg.eig(arr3)\n",
        "print(\"Valores propios de arr3:\")\n",
        "print(arr3_eigenvalues)\n",
        "\n",
        "print(\"\\nVectores propios de arr3:\")\n",
        "print(arr3_eigenvectors)\n",
        "#"
      ],
      "metadata": {
        "colab": {
          "base_uri": "https://localhost:8080/"
        },
        "id": "rLX9P_xMZxjB",
        "outputId": "f8b011f4-5667-40d3-9301-19543fa07d7a"
      },
      "execution_count": 10,
      "outputs": [
        {
          "output_type": "stream",
          "name": "stdout",
          "text": [
            "Valores propios de arr3:\n",
            "[198.54403185 +0.j          11.22798407+28.15020282j\n",
            "  11.22798407-28.15020282j]\n",
            "\n",
            "Vectores propios de arr3:\n",
            "[[ 0.45445428+0.j          0.70552842+0.j          0.70552842-0.j        ]\n",
            " [ 0.60649738+0.j         -0.48369112-0.29985114j -0.48369112+0.29985114j]\n",
            " [ 0.65240496+0.j         -0.3447134 +0.24399696j -0.3447134 -0.24399696j]]\n"
          ]
        }
      ]
    }
  ]
}