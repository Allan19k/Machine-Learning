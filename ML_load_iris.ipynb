{
  "nbformat": 4,
  "nbformat_minor": 0,
  "metadata": {
    "colab": {
      "provenance": [],
      "authorship_tag": "ABX9TyPgamRZpUPW7Z2ebPX5FQx3",
      "include_colab_link": true
    },
    "kernelspec": {
      "name": "python3",
      "display_name": "Python 3"
    },
    "language_info": {
      "name": "python"
    }
  },
  "cells": [
    {
      "cell_type": "markdown",
      "metadata": {
        "id": "view-in-github",
        "colab_type": "text"
      },
      "source": [
        "<a href=\"https://colab.research.google.com/github/Allan19k/Machine-Learning/blob/main/ML_load_iris.ipynb\" target=\"_parent\"><img src=\"https://colab.research.google.com/assets/colab-badge.svg\" alt=\"Open In Colab\"/></a>"
      ]
    },
    {
      "cell_type": "code",
      "execution_count": 27,
      "metadata": {
        "id": "zb68jejqj0XG"
      },
      "outputs": [],
      "source": [
        "# Importamos el dataset load_iris\n",
        "from sklearn.datasets import load_iris\n",
        "iris_dataset = load_iris()"
      ]
    },
    {
      "cell_type": "code",
      "source": [
        "# Imprimir las claves para conocer la estructura del dataset y qué información contiene\n",
        "print(\"Keys of iris_dataset: \\n{}\".format(iris_dataset.keys()))"
      ],
      "metadata": {
        "colab": {
          "base_uri": "https://localhost:8080/"
        },
        "id": "0_3mFr6zlHv8",
        "outputId": "f3db724a-8218-4872-b527-c9f007745f7f"
      },
      "execution_count": 28,
      "outputs": [
        {
          "output_type": "stream",
          "name": "stdout",
          "text": [
            "Keys of iris_dataset: \n",
            "dict_keys(['data', 'target', 'frame', 'target_names', 'DESCR', 'feature_names', 'filename', 'data_module'])\n"
          ]
        }
      ]
    },
    {
      "cell_type": "code",
      "source": [
        "# Imprimir el contenido de Target names, en este caso contiene las especies de flores\n",
        "print(\"Target names: {}\".format(iris_dataset['target_names']))"
      ],
      "metadata": {
        "colab": {
          "base_uri": "https://localhost:8080/"
        },
        "id": "xblU32jkoSuH",
        "outputId": "da577821-6d56-4179-d359-5895559eb288"
      },
      "execution_count": 29,
      "outputs": [
        {
          "output_type": "stream",
          "name": "stdout",
          "text": [
            "Target names: ['setosa' 'versicolor' 'virginica']\n"
          ]
        }
      ]
    },
    {
      "cell_type": "code",
      "source": [
        "#caracteristicas\n",
        "print(\"Feature names: \\n{}\".format(iris_dataset['feature_names']))"
      ],
      "metadata": {
        "id": "SA8PYwf2pU75"
      },
      "execution_count": null,
      "outputs": []
    },
    {
      "cell_type": "code",
      "source": [
        "# Imprimir la forma del dataset, donde 150 es la cantidad de flores y 4 representa las cuatro medidas que se le hizo a cada flor\n",
        "print(\"Shape of data: {}\".format(iris_dataset['data'].shape))"
      ],
      "metadata": {
        "id": "cUatyBCJrJv5"
      },
      "execution_count": null,
      "outputs": []
    },
    {
      "cell_type": "code",
      "source": [
        "print(\"First 5 columns of data:\\n{}\".format(iris_dataset['data'][:5]))"
      ],
      "metadata": {
        "id": "P_Of7JHcsrzh"
      },
      "execution_count": null,
      "outputs": []
    },
    {
      "cell_type": "code",
      "source": [
        "# imprimir los valores almacenados en la clave 'target'\n",
        "# donde 0 representa setosa, 1 versicolor y 2 virginica\n",
        "print(\"Target:\\n{}\".format(iris_dataset['target']))"
      ],
      "metadata": {
        "id": "f1qNdM2wtqKV"
      },
      "execution_count": null,
      "outputs": []
    }
  ]
}